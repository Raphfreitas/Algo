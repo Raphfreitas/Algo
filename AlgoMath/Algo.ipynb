{
 "cells": [
  {
   "cell_type": "markdown",
   "metadata": {},
   "source": [
    "# Simple Echange"
   ]
  },
  {
   "cell_type": "code",
   "execution_count": 1,
   "metadata": {},
   "outputs": [],
   "source": [
    "a,b=1,2"
   ]
  },
  {
   "cell_type": "code",
   "execution_count": 2,
   "metadata": {},
   "outputs": [],
   "source": [
    "a,b=b,a"
   ]
  },
  {
   "cell_type": "code",
   "execution_count": 3,
   "metadata": {},
   "outputs": [
    {
     "data": {
      "text/plain": [
       "2"
      ]
     },
     "execution_count": 3,
     "metadata": {},
     "output_type": "execute_result"
    }
   ],
   "source": [
    "a"
   ]
  },
  {
   "cell_type": "code",
   "execution_count": 4,
   "metadata": {},
   "outputs": [
    {
     "data": {
      "text/plain": [
       "1"
      ]
     },
     "execution_count": 4,
     "metadata": {},
     "output_type": "execute_result"
    }
   ],
   "source": [
    "b"
   ]
  },
  {
   "cell_type": "markdown",
   "metadata": {},
   "source": [
    "# Le Carré  \n"
   ]
  },
  {
   "cell_type": "code",
   "execution_count": 1,
   "metadata": {},
   "outputs": [
    {
     "name": "stdout",
     "output_type": "stream",
     "text": [
      "Entrez une valeur3\n",
      "9.0\n"
     ]
    }
   ],
   "source": [
    "a=float(input(\"Entrez une valeur\"))\n",
    "print(a*a)"
   ]
  },
  {
   "cell_type": "markdown",
   "metadata": {},
   "source": [
    "# La condition "
   ]
  },
  {
   "cell_type": "code",
   "execution_count": null,
   "metadata": {},
   "outputs": [],
   "source": [
    "a=float(input(\"Entrez une valeur : \"))\n",
    "if(a<0) :\n",
    "    print(\"C'est négatif\")\n",
    "else :\n",
    "    print(\"C'est positif\")\n"
   ]
  },
  {
   "cell_type": "markdown",
   "metadata": {},
   "source": [
    "# Le produit"
   ]
  },
  {
   "cell_type": "code",
   "execution_count": null,
   "metadata": {},
   "outputs": [],
   "source": [
    "a = float(input(\"Entrez une valeur \"))\n",
    "b = float(input(\"Entrez une valeur \"))\n",
    "if (a<0) and (b<0) :\n",
    "    print(\"la valeur est positive\")\n",
    "else :\n",
    "    print('la valeur est négative')\n"
   ]
  },
  {
   "cell_type": "markdown",
   "metadata": {},
   "source": [
    "# Calcul"
   ]
  },
  {
   "cell_type": "code",
   "execution_count": null,
   "metadata": {},
   "outputs": [],
   "source": [
    "a=int(input(\"Une valeur : \"))\n",
    "for a in range(a,a+10):\n",
    "    a+=1\n",
    "    print(a)\n",
    "\n",
    "    \n"
   ]
  },
  {
   "cell_type": "markdown",
   "metadata": {},
   "source": [
    "# Additivité"
   ]
  },
  {
   "cell_type": "code",
   "execution_count": null,
   "metadata": {},
   "outputs": [],
   "source": [
    "i=0\n",
    "a=int(input(\"Entrez le premier nombre :\"))\n",
    "Res=0\n",
    "for i in range(0,a+1):\n",
    "    Res+=i\n",
    "print(Res)"
   ]
  },
  {
   "cell_type": "markdown",
   "metadata": {},
   "source": [
    "# La somme "
   ]
  },
  {
   "cell_type": "code",
   "execution_count": 11,
   "metadata": {},
   "outputs": [
    {
     "name": "stdout",
     "output_type": "stream",
     "text": [
      "7\n"
     ]
    }
   ],
   "source": [
    "tab= [2,2,3]\n",
    "res = 0\n",
    "for i in range(0,len(tab)) :\n",
    "    res += tab[i]\n",
    "print(res)"
   ]
  },
  {
   "cell_type": "markdown",
   "metadata": {},
   "source": [
    "# La somme le retour"
   ]
  },
  {
   "cell_type": "code",
   "execution_count": 12,
   "metadata": {},
   "outputs": [
    {
     "data": {
      "text/plain": [
       "[6, 6, 6, 6, 6]"
      ]
     },
     "execution_count": 12,
     "metadata": {},
     "output_type": "execute_result"
    }
   ],
   "source": [
    "a = [1, 2, 3, 4, 5]\n",
    "b = [5, 4, 3, 2, 1]\n",
    "FinalTab = []\n",
    "for i in range(0,len(a)) : \n",
    "    c = a[i] + b[i]\n",
    "    FinalTab.append(c)\n",
    "FinalTab"
   ]
  },
  {
   "cell_type": "markdown",
   "metadata": {},
   "source": [
    "# Factproduct"
   ]
  },
  {
   "cell_type": "code",
   "execution_count": 13,
   "metadata": {},
   "outputs": [
    {
     "name": "stdout",
     "output_type": "stream",
     "text": [
      "350\n"
     ]
    }
   ],
   "source": [
    "a = [10, 20, 30, 40, 50]\n",
    "b = [5, 4, 3, 2, 1]\n",
    "FinalTab = []\n",
    "for i in range(0,len(a)) : \n",
    "    c = a[i] * b[i]\n",
    "    FinalTab.append(c)\n",
    "FinalTab\n",
    "\n",
    "z = 0\n",
    "for i in range(0,len(a)) : \n",
    "    z = z + FinalTab[i]\n",
    "print(z)\n"
   ]
  },
  {
   "cell_type": "code",
   "execution_count": null,
   "metadata": {},
   "outputs": [],
   "source": [
    "def targets(liste,target):\n",
    "    dico = {}\n",
    "    for item in liste:\n",
    "        dico[target + item ] = item\n",
    "        if (item in dico and dico[item] != item):\n",
    "            return [item, dico[item]]\n",
    "    return []\n",
    "targets"
   ]
  },
  {
   "cell_type": "markdown",
   "metadata": {},
   "source": [
    "Levenshtein"
   ]
  },
  {
   "cell_type": "code",
   "execution_count": 48,
   "metadata": {},
   "outputs": [
    {
     "name": "stdout",
     "output_type": "stream",
     "text": [
      "4\n"
     ]
    }
   ],
   "source": []
  },
  {
   "cell_type": "code",
   "execution_count": 122,
   "metadata": {},
   "outputs": [
    {
     "name": "stdout",
     "output_type": "stream",
     "text": [
      "{(0, 0): 0, (1, 0): 1, (2, 0): 2, (3, 0): 3, (4, 0): 4, (0, 1): 1, (0, 2): 2, (0, 3): 3, (0, 4): 4}\n"
     ]
    },
    {
     "ename": "KeyError",
     "evalue": "0",
     "output_type": "error",
     "traceback": [
      "\u001b[1;31m---------------------------------------------------------------------------\u001b[0m",
      "\u001b[1;31mKeyError\u001b[0m                                  Traceback (most recent call last)",
      "\u001b[1;32m<ipython-input-122-0f50e762205c>\u001b[0m in \u001b[0;36m<module>\u001b[1;34m\u001b[0m\n\u001b[0;32m     12\u001b[0m             \u001b[0md\u001b[0m\u001b[1;33m[\u001b[0m\u001b[0mi\u001b[0m\u001b[1;33m,\u001b[0m \u001b[0mj\u001b[0m\u001b[1;33m]\u001b[0m \u001b[1;33m=\u001b[0m \u001b[0md\u001b[0m\u001b[1;33m[\u001b[0m\u001b[0mi\u001b[0m\u001b[1;33m-\u001b[0m\u001b[1;36m1\u001b[0m\u001b[1;33m,\u001b[0m \u001b[0mj\u001b[0m\u001b[1;33m-\u001b[0m\u001b[1;36m1\u001b[0m\u001b[1;33m]\u001b[0m\u001b[1;33m\u001b[0m\u001b[1;33m\u001b[0m\u001b[0m\n\u001b[0;32m     13\u001b[0m         \u001b[1;32melse\u001b[0m\u001b[1;33m:\u001b[0m\u001b[1;33m\u001b[0m\u001b[1;33m\u001b[0m\u001b[0m\n\u001b[1;32m---> 14\u001b[1;33m             \u001b[0md\u001b[0m\u001b[1;33m[\u001b[0m\u001b[0mi\u001b[0m\u001b[1;33m]\u001b[0m\u001b[1;33m[\u001b[0m\u001b[0mj\u001b[0m\u001b[1;33m]\u001b[0m \u001b[1;33m=\u001b[0m \u001b[0mmin\u001b[0m\u001b[1;33m(\u001b[0m\u001b[0md\u001b[0m\u001b[1;33m[\u001b[0m\u001b[0mi\u001b[0m\u001b[1;33m-\u001b[0m\u001b[1;36m1\u001b[0m\u001b[1;33m]\u001b[0m\u001b[1;33m[\u001b[0m\u001b[0mj\u001b[0m\u001b[1;33m-\u001b[0m\u001b[1;36m1\u001b[0m\u001b[1;33m]\u001b[0m \u001b[1;33m+\u001b[0m \u001b[0mcost\u001b[0m\u001b[1;33m)\u001b[0m \u001b[1;31m# substitution\u001b[0m\u001b[1;33m\u001b[0m\u001b[1;33m\u001b[0m\u001b[0m\n\u001b[0m\u001b[0;32m     15\u001b[0m \u001b[0mprint\u001b[0m \u001b[1;33m(\u001b[0m\u001b[0md\u001b[0m\u001b[1;33m)\u001b[0m\u001b[1;33m\u001b[0m\u001b[1;33m\u001b[0m\u001b[0m\n",
      "\u001b[1;31mKeyError\u001b[0m: 0"
     ]
    }
   ],
   "source": [
    "s = 'chien'\n",
    "t = 'niche'\n",
    "d = {}\n",
    "for i in range(len(s)):\n",
    "    d[i, 0] = i\n",
    "for j in range (len(t)):\n",
    "    d[0, j] = j\n",
    "print (d)\n",
    "for j in range(1,len(t)):\n",
    "    for i in range(1,len(s)):\n",
    "        if s[i] == t[j]:\n",
    "            d[i, j] = d[i-1, j-1]\n",
    "        else:\n",
    "            d[i][j] = min(d[i-1][j-1] + cost)"
   ]
  },
  {
   "cell_type": "code",
   "execution_count": 73,
   "metadata": {},
   "outputs": [
    {
     "data": {
      "text/plain": [
       "[0, 0, 0, 0, [0, 0, 0, 0]]"
      ]
     },
     "execution_count": 73,
     "metadata": {},
     "output_type": "execute_result"
    }
   ],
   "source": [
    "a=\"chien\"\n",
    "b=\"niche\"\n",
    "mat = [0 for x in range(4)]\n",
    "mat.append([0 for y in range(4)])\n",
    "mat"
   ]
  },
  {
   "cell_type": "code",
   "execution_count": 14,
   "metadata": {},
   "outputs": [
    {
     "name": "stdout",
     "output_type": "stream",
     "text": [
      "[[0, 1, 2, 3, 4, 5], [1, 1, 2, 2, 3, 4], [2, 2, 2, 3, 2, 3], [3, 3, 2, 3, 3, 3], [4, 4, 3, 3, 4, 3], [5, 4, 4, 4, 4, 4]]\n"
     ]
    },
    {
     "data": {
      "text/plain": [
       "4"
      ]
     },
     "execution_count": 14,
     "metadata": {},
     "output_type": "execute_result"
    }
   ],
   "source": [
    "def levenshtein (str1,str2):\n",
    "    a = len(str1)\n",
    "    b = len(str2)\n",
    "\n",
    "    table = [[0 for i in range(b+1)] for j in range(a+1)]\n",
    "\n",
    "    for i in range(a+1):\n",
    "        for j in range(b+1):\n",
    "            if i == 0:\n",
    "                table[0][j] = j\n",
    "            elif j == 0:\n",
    "                table[i][0] = i\n",
    "            elif str1[i-1] == str2[j-1]:\n",
    "                table[i][j] = table[i-1][j-1]\n",
    "            else:\n",
    "                table[i][j] = 1 + min(table[i-1][j],\n",
    "                                      table[i][j-1],\n",
    "                                      table[i-1][j-1])\n",
    "    print(table)             \n",
    "    return table[a][b]\n",
    "levenshtein(\"chien\",\"niche\")"
   ]
  },
  {
   "cell_type": "markdown",
   "metadata": {},
   "source": [
    "Le compte bancaire"
   ]
  },
  {
   "cell_type": "code",
   "execution_count": 60,
   "metadata": {},
   "outputs": [
    {
     "name": "stdout",
     "output_type": "stream",
     "text": [
      "Le compte bancaire de  ff  est de  33  €\n"
     ]
    }
   ],
   "source": [
    "class CompteBancaire :\n",
    "    \n",
    "    def __init__(self, nom=\"Dupont\", solde=1000) :\n",
    "        self.nom = nom\n",
    "        self.solde = solde\n",
    "    \n",
    "    def depot(self, value) :\n",
    "        self.solde = self.solde + value\n",
    "    \n",
    "    def retrait(self, value) :\n",
    "        self.solde = self.solde - value\n",
    "        \n",
    "    def affiche(self) :\n",
    "        print(\"Le compte bancaire de \", self.nom , \" est de \" , self.solde , \" €\")\n",
    "        \n",
    "        \n",
    "a = CompteBancaire(\"ff\",33)\n",
    "a.affiche()"
   ]
  },
  {
   "cell_type": "code",
   "execution_count": 10,
   "metadata": {},
   "outputs": [
    {
     "name": "stdout",
     "output_type": "stream",
     "text": [
      "a : x = 1 y = 2\n"
     ]
    }
   ],
   "source": [
    "class Point:\n",
    "    def __init__(self, abs, ord):\n",
    "        self.x = abs\n",
    "        self.y = ord\n",
    "\n",
    "a = Point(1, 2)\n",
    "print(\"a : x =\", a.x, \"y =\", a.y)\n"
   ]
  },
  {
   "cell_type": "code",
   "execution_count": null,
   "metadata": {},
   "outputs": [],
   "source": []
  }
 ],
 "metadata": {
  "kernelspec": {
   "display_name": "Python 3",
   "language": "python",
   "name": "python3"
  },
  "language_info": {
   "codemirror_mode": {
    "name": "ipython",
    "version": 3
   },
   "file_extension": ".py",
   "mimetype": "text/x-python",
   "name": "python",
   "nbconvert_exporter": "python",
   "pygments_lexer": "ipython3",
   "version": "3.8.5"
  }
 },
 "nbformat": 4,
 "nbformat_minor": 4
}
